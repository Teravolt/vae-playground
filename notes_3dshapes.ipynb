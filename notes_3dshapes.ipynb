{
 "cells": [
  {
   "cell_type": "markdown",
   "metadata": {},
   "source": [
    "## Notes on 3dshapes dataset"
   ]
  },
  {
   "cell_type": "code",
   "execution_count": 1,
   "metadata": {},
   "outputs": [],
   "source": [
    "import h5py\n",
    "\n",
    "from PIL import Image"
   ]
  },
  {
   "cell_type": "markdown",
   "metadata": {},
   "source": [
    "## Notes\n",
    "- Dataset consists of an image paired with labels\n",
    "\n",
    "- Image is of shape 64x64x3\n",
    "    - Images contain a shape, floor, and walls with varying colors.\n",
    "    - Shape can have different scales and camera angle of scene can vary\n",
    "\n",
    "- Labels are of size 6 and represent the following latent factors\n",
    "    - floor hue: 10 values linearly spaced in [0, 1]\n",
    "    - wall hue: 10 values linearly spaced in [0, 1]\n",
    "    - object hue: 10 values linearly spaced in [0, 1]\n",
    "    - scale: 8 values linearly spaced in [0, 1]\n",
    "    - shape: 4 values in [0, 1, 2, 3]\n",
    "    - orientation: 15 values linearly spaced in [-30, 30]"
   ]
  },
  {
   "cell_type": "code",
   "execution_count": 2,
   "metadata": {},
   "outputs": [],
   "source": [
    "data = h5py.File('3dshapes.h5', 'r')"
   ]
  },
  {
   "cell_type": "code",
   "execution_count": null,
   "metadata": {},
   "outputs": [],
   "source": [
    "(data['images'].shape[0]*0.01)\n",
    "# index = 60000\n",
    "# img = Image.fromarray(data['images'][index])\n",
    "# labels = data['labels'][index]"
   ]
  },
  {
   "cell_type": "code",
   "execution_count": null,
   "metadata": {},
   "outputs": [],
   "source": [
    "24000/500"
   ]
  },
  {
   "cell_type": "code",
   "execution_count": null,
   "metadata": {},
   "outputs": [],
   "source": []
  }
 ],
 "metadata": {
  "kernelspec": {
   "display_name": "vae-playground-wPvColg4-py3.12",
   "language": "python",
   "name": "python3"
  },
  "language_info": {
   "codemirror_mode": {
    "name": "ipython",
    "version": 3
   },
   "file_extension": ".py",
   "mimetype": "text/x-python",
   "name": "python",
   "nbconvert_exporter": "python",
   "pygments_lexer": "ipython3",
   "version": "3.12.4"
  }
 },
 "nbformat": 4,
 "nbformat_minor": 2
}
